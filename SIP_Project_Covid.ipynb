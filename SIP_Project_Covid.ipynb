{
  "nbformat": 4,
  "nbformat_minor": 0,
  "metadata": {
    "colab": {
      "provenance": [],
      "gpuType": "T4"
    },
    "kernelspec": {
      "name": "python3",
      "display_name": "Python 3"
    },
    "language_info": {
      "name": "python"
    },
    "accelerator": "GPU"
  },
  "cells": [
    {
      "cell_type": "code",
      "source": [
        "from google.colab import drive\n",
        "\n",
        "# Mount Google Drive\n",
        "drive.mount('/content/drive')"
      ],
      "metadata": {
        "id": "x2LTEDmndo3X"
      },
      "execution_count": null,
      "outputs": []
    },
    {
      "cell_type": "code",
      "execution_count": null,
      "metadata": {
        "id": "imqMnaW2cjV7"
      },
      "outputs": [],
      "source": [
        "import torch\n",
        "import torchvision.transforms as transforms\n",
        "from torch.utils.data import DataLoader, random_split\n",
        "from torchvision.datasets import ImageFolder\n",
        "from sklearn.model_selection import StratifiedKFold\n",
        "from sklearn.utils import shuffle\n",
        "from sklearn.model_selection import train_test_split\n",
        "from transformers import ViTFeatureExtractor, ViTForImageClassification\n",
        "import torch.nn as nn\n",
        "import torch.optim as optim\n",
        "from sklearn.metrics import accuracy_score"
      ]
    },
    {
      "cell_type": "code",
      "source": [
        "device = torch.device(\"cuda\" if torch.cuda.is_available() else \"cpu\")\n",
        "print(f\"Using device: {device}\")"
      ],
      "metadata": {
        "colab": {
          "base_uri": "https://localhost:8080/"
        },
        "id": "uQY7Aqg8d_N9",
        "outputId": "2ad8a739-a922-4563-933f-89d94a82d980"
      },
      "execution_count": null,
      "outputs": [
        {
          "output_type": "stream",
          "name": "stdout",
          "text": [
            "Using device: cuda\n"
          ]
        }
      ]
    },
    {
      "cell_type": "code",
      "source": [
        "import os\n",
        "import numpy as np\n",
        "import imgaug.augmenters as iaa\n",
        "from PIL import Image\n",
        "\n",
        "# Specify the path to your dataset\n",
        "dataset_path = '/content/drive/MyDrive/data_corrected'\n",
        "train_test_folders = [\"train\", \"test\"]\n",
        "\n",
        "# Create an augmentation sequence\n",
        "seq = iaa.Sequential([\n",
        "    iaa.Fliplr(0.5),        # horizontal flips\n",
        "    iaa.Affine(rotate=(-30, 30)),  # random rotations\n",
        "    iaa.GaussianBlur(sigma=(0, 1.0)),  # random gaussian blur\n",
        "    iaa.AdditiveGaussianNoise(scale=(0, 0.1 * 255))  # random noise\n",
        "])\n",
        "\n",
        "# Number of augmented images to generate per original image\n",
        "augmentation_factor = 5\n",
        "\n",
        "# Loop through each \"train\" and \"test\" subfolder\n",
        "for train_test_folder in train_test_folders:\n",
        "    class_folders = [\"covid\", \"non\"]\n",
        "\n",
        "    # Loop through each class (\"covid\" and \"non\")\n",
        "    for class_folder in class_folders:\n",
        "        class_path = os.path.join(dataset_path, train_test_folder, class_folder)\n",
        "\n",
        "        # If the class is \"non,\" consider subfolders within it\n",
        "        if class_folder == \"non\":\n",
        "            subfolders = [f for f in os.listdir(class_path) if os.path.isdir(os.path.join(class_path, f))]\n",
        "\n",
        "            # Loop through each subfolder within \"non\"\n",
        "            for subfolder in subfolders:\n",
        "                subfolder_path = os.path.join(class_path, subfolder)\n",
        "\n",
        "                # List all image files in the subfolder\n",
        "                image_files = [f for f in os.listdir(subfolder_path) if f.endswith(('.jpg', '.png', '.jpeg'))]\n",
        "\n",
        "                # Loop through each image in the subfolder\n",
        "                for image_file in image_files:\n",
        "                    # Load the image\n",
        "                    image_path = os.path.join(subfolder_path, image_file)\n",
        "                    img = np.array(Image.open(image_path))\n",
        "\n",
        "                    # Apply augmentation and save the augmented images in the same folder\n",
        "                    for i in range(augmentation_factor):\n",
        "                        augmented_img = seq.augment_image(img)\n",
        "                        output_file = f\"{os.path.splitext(image_file)[0]}_aug_{i}.jpg\"\n",
        "                        output_file_path = os.path.join(subfolder_path, output_file)\n",
        "                        Image.fromarray(augmented_img).save(output_file_path)\n",
        "        else:\n",
        "            # For \"covid\" class, directly list all image files\n",
        "            image_files = [f for f in os.listdir(class_path) if f.endswith(('.jpg', '.png', '.jpeg'))]\n",
        "\n",
        "            # Loop through each image in the class folder\n",
        "            for image_file in image_files:\n",
        "                # Load the image\n",
        "                image_path = os.path.join(class_path, image_file)\n",
        "                img = np.array(Image.open(image_path))\n",
        "\n",
        "                # Apply augmentation and save the augmented images in the same folder\n",
        "                for i in range(augmentation_factor):\n",
        "                    augmented_img = seq.augment_image(img)\n",
        "                    output_file = f\"{os.path.splitext(image_file)[0]}_aug_{i}.jpg\"\n",
        "                    output_file_path = os.path.join(class_path, output_file)\n",
        "                    Image.fromarray(augmented_img).save(output_file_path)\n"
      ],
      "metadata": {
        "id": "7vp0kKFQqt7h"
      },
      "execution_count": null,
      "outputs": []
    },
    {
      "cell_type": "code",
      "source": [
        "# # Use the custom function in the transformations\n",
        "transformations = transforms.Compose([\n",
        "    transforms.ColorJitter(brightness=0.2, contrast=0.2, saturation=0.2, hue=0.2),\n",
        "    transforms.Lambda(lambda x: transforms.functional.adjust_gamma(x, gamma=0.5)),\n",
        "    transforms.RandomHorizontalFlip(),\n",
        "    transforms.RandomApply([transforms.Lambda(lambda x: transforms.functional.adjust_sharpness(x, sharpness_factor=2.0))], p=0.5),\n",
        "    transforms.Resize((224, 224)),\n",
        "    transforms.ToTensor(),\n",
        "])\n",
        "# Load the dataset\n",
        "dataset = ImageFolder(root='/content/drive/MyDrive/data_corrected', transform=transformations)\n"
      ],
      "metadata": {
        "id": "yC3bvxOjcq88"
      },
      "execution_count": null,
      "outputs": []
    },
    {
      "cell_type": "code",
      "source": [
        "import os\n",
        "\n",
        "# Specify the path to your dataset\n",
        "dataset_path = '/content/drive/MyDrive/data_corrected'\n",
        "\n",
        "# List of classes (\"covid\" and \"non\")\n",
        "classes = [\"covid\", \"non\"]\n",
        "\n",
        "# Loop through each class\n",
        "for class_folder in classes:\n",
        "    class_path = os.path.join(dataset_path, \"train\", class_folder)\n",
        "\n",
        "    # Check if the class is \"non\" and list subfolders\n",
        "    if class_folder == \"non\":\n",
        "        subfolders = [f for f in os.listdir(class_path) if os.path.isdir(os.path.join(class_path, f))]\n",
        "\n",
        "        # Loop through each subfolder within \"non\"\n",
        "        for subfolder in subfolders:\n",
        "            subfolder_path = os.path.join(class_path, subfolder)\n",
        "\n",
        "            # List all image files in the subfolder\n",
        "            image_files = [f for f in os.listdir(subfolder_path) if f.endswith(('.jpg', '.png', '.jpeg'))]\n",
        "\n",
        "            # Print the number of samples in each subfolder\n",
        "            print(f\"Class {class_folder}, Subfolder {subfolder}: {len(image_files)} samples\")\n",
        "    else:\n",
        "        # For \"covid\" class, directly list all image files\n",
        "        image_files = [f for f in os.listdir(class_path) if f.endswith(('.jpg', '.png', '.jpeg'))]\n",
        "\n",
        "        # Print the number of samples in the class\n",
        "        print(f\"Class {class_folder}: {len(image_files)} samples\")\n",
        "\n",
        "# Repeat the same process for the \"test\" subfolder\n",
        "for class_folder in classes:\n",
        "    class_path = os.path.join(dataset_path, \"test\", class_folder)\n",
        "\n",
        "    # Check if the class is \"non\" and list subfolders\n",
        "    if class_folder == \"non\":\n",
        "        subfolders = [f for f in os.listdir(class_path) if os.path.isdir(os.path.join(class_path, f))]\n",
        "\n",
        "        # Loop through each subfolder within \"non\"\n",
        "        for subfolder in subfolders:\n",
        "            subfolder_path = os.path.join(class_path, subfolder)\n",
        "\n",
        "            # List all image files in the subfolder\n",
        "            image_files = [f for f in os.listdir(subfolder_path) if f.endswith(('.jpg', '.png', '.jpeg'))]\n",
        "\n",
        "            # Print the number of samples in each subfolder\n",
        "            print(f\"Class {class_folder}, Subfolder {subfolder}: {len(image_files)} samples\")\n",
        "    else:\n",
        "        # For \"covid\" class, directly list all image files\n",
        "        image_files = [f for f in os.listdir(class_path) if f.endswith(('.jpg', '.png', '.jpeg'))]\n",
        "\n",
        "        # Print the number of samples in the class\n",
        "        print(f\"Class {class_folder}: {len(image_files)} samples\")\n"
      ],
      "metadata": {
        "colab": {
          "base_uri": "https://localhost:8080/"
        },
        "id": "9HWmLKWtsPgF",
        "outputId": "a2de250e-d255-4001-b6ab-90eca4d1fd9f"
      },
      "execution_count": null,
      "outputs": [
        {
          "output_type": "stream",
          "name": "stdout",
          "text": [
            "Class covid: 504 samples\n",
            "Class non, Subfolder Lung_Opacity: 714 samples\n",
            "Class non, Subfolder No_Finding: 10200 samples\n",
            "Class non, Subfolder Edema: 720 samples\n",
            "Class non, Subfolder Enlarged_Cardiomediastinum: 690 samples\n",
            "Class non, Subfolder Pleural_Other: 324 samples\n",
            "Class non, Subfolder Pneumonia: 282 samples\n",
            "Class non, Subfolder Pneumothorax: 678 samples\n",
            "Class covid: 600 samples\n",
            "Class non, Subfolder Support_Devices: 678 samples\n",
            "Class non, Subfolder Fracture: 714 samples\n",
            "Class non, Subfolder Lung_Lesion: 654 samples\n",
            "Class non, Subfolder Cardiomegaly: 672 samples\n",
            "Class non, Subfolder Atelectasis: 702 samples\n",
            "Class non, Subfolder Consolidation: 672 samples\n"
          ]
        }
      ]
    },
    {
      "cell_type": "code",
      "source": [
        "# Split the dataset into 80% training and 20% testing\n",
        "train_size = int(0.8 * len(dataset))\n",
        "test_size = len(dataset) - train_size\n",
        "train_dataset, test_dataset = random_split(dataset, [train_size, test_size])\n"
      ],
      "metadata": {
        "id": "9pydrT7Wcu3l"
      },
      "execution_count": null,
      "outputs": []
    },
    {
      "cell_type": "code",
      "source": [
        "# Apply 5-fold cross-validation\n",
        "skf = StratifiedKFold(n_splits=5, shuffle=True, random_state=42)\n",
        "\n",
        "# Define the ViT model\n",
        "feature_extractor = ViTFeatureExtractor(model_name=\"google/vit-base-patch16-224\", do_lower_case=True)\n",
        "model = ViTForImageClassification.from_pretrained(\"google/vit-base-patch16-224\")\n",
        "model.classifier = nn.Linear(model.config.hidden_size, 2)\n",
        "\n",
        "# Move model to GPU\n",
        "model.to(device)\n",
        "\n",
        "criterion = nn.CrossEntropyLoss()\n",
        "optimizer = optim.Adam(model.parameters(), lr=2e-5)\n"
      ],
      "metadata": {
        "id": "pDWtaTKEdOe6"
      },
      "execution_count": null,
      "outputs": []
    },
    {
      "cell_type": "code",
      "source": [
        "# Training and evaluation\n",
        "for fold, (train_index, val_index) in enumerate(skf.split(range(len(train_dataset)), [train_dataset[i][1] for i in range(len(train_dataset))])):\n",
        "    train_fold, val_fold = random_split(train_dataset, [len(train_index), len(val_index)])\n",
        "\n",
        "    # Class balance correction\n",
        "    covid_indices = [i for i in range(len(train_fold)) if train_fold[i][1] == 0]\n",
        "    non_covid_indices = [i for i in range(len(train_fold)) if train_fold[i][1] == 1]\n",
        "\n",
        "    # Augment \"non\" class images\n",
        "    non_covid_indices = shuffle(non_covid_indices, random_state=42)\n",
        "    non_covid_indices = non_covid_indices[:len(covid_indices)]\n",
        "\n",
        "    # Concatenate augmented \"non\" indices with \"covid\" indices\n",
        "    train_indices = covid_indices + non_covid_indices\n",
        "\n",
        "    # Shuffle the indices\n",
        "    train_indices = shuffle(train_indices, random_state=42)\n",
        "\n",
        "    # Create DataLoader for training and validation\n",
        "    train_loader = DataLoader(torch.utils.data.Subset(train_fold, train_indices), batch_size=32, shuffle=True)\n",
        "    val_loader = DataLoader(val_fold, batch_size=32, shuffle=False)\n",
        "\n",
        "    # Training loop\n",
        "    num_epochs = 5\n",
        "    for epoch in range(num_epochs):\n",
        "        model.train()\n",
        "        running_loss = 0.0\n",
        "        correct_train = 0\n",
        "        total_train = 0\n",
        "\n",
        "        for inputs, labels in train_loader:\n",
        "            inputs, labels = inputs.to(device), labels.to(device)\n",
        "            optimizer.zero_grad()\n",
        "            outputs = model(inputs).logits\n",
        "            loss = criterion(outputs, labels)\n",
        "            loss.backward()\n",
        "            optimizer.step()\n",
        "            running_loss += loss.item()\n",
        "\n",
        "            _, predicted = torch.max(outputs.data, 1)\n",
        "            total_train += labels.size(0)\n",
        "            correct_train += (predicted == labels).sum().item()\n",
        "\n",
        "        train_accuracy = correct_train / total_train\n",
        "        average_train_loss = running_loss / len(train_loader)\n",
        "\n",
        "        print(f\"Fold {fold + 1}, Epoch {epoch + 1}/{num_epochs}\")\n",
        "        print(f\"Train Loss: {average_train_loss:.4f}, Train Accuracy: {train_accuracy:.4f}\")\n",
        "\n",
        "    # Validation\n",
        "    model.eval()\n",
        "    all_preds = []\n",
        "    all_labels = []\n",
        "    with torch.no_grad():\n",
        "        for inputs, labels in val_loader:\n",
        "            inputs, labels = inputs.to(device), labels.to(device)\n",
        "            outputs = model(inputs).logits\n",
        "            preds = torch.argmax(outputs, dim=1).cpu().numpy()\n",
        "            all_preds.extend(preds)\n",
        "            all_labels.extend(labels.cpu().numpy())\n",
        "\n",
        "    accuracy = accuracy_score(all_labels, all_preds)\n",
        "    print(f\"Fold {fold + 1}, Validation Accuracy: {accuracy:.4f}\")\n"
      ],
      "metadata": {
        "id": "C3rmMeYLc3FL"
      },
      "execution_count": null,
      "outputs": []
    },
    {
      "cell_type": "code",
      "source": [
        "# Test DataLoader for testing set\n",
        "test_loader = DataLoader(test_dataset, batch_size=32, shuffle=False)\n"
      ],
      "metadata": {
        "id": "VnwzDnapfJ8b"
      },
      "execution_count": null,
      "outputs": []
    },
    {
      "cell_type": "code",
      "source": [
        "# Testing\n",
        "model.eval()\n",
        "all_preds = []\n",
        "all_labels = []\n",
        "with torch.no_grad():\n",
        "    for inputs, labels in test_loader:\n",
        "        inputs, labels = inputs.to(device), labels.to(device)\n",
        "        outputs = model(inputs).logits\n",
        "        preds = torch.argmax(outputs, dim=1).cpu().numpy()\n",
        "        all_preds.extend(preds)\n",
        "        all_labels.extend(labels.cpu().numpy())\n",
        "\n",
        "accuracy = accuracy_score(all_labels, all_preds)\n",
        "print(f\"Test Accuracy: {accuracy:.4f}\")"
      ],
      "metadata": {
        "colab": {
          "base_uri": "https://localhost:8080/"
        },
        "id": "S5uxYSkqdY6e",
        "outputId": "cffd4f5b-eeca-4e17-8842-91d0a33c2ba9"
      },
      "execution_count": null,
      "outputs": [
        {
          "output_type": "stream",
          "name": "stdout",
          "text": [
            "Test Accuracy: 0.8370\n"
          ]
        }
      ]
    },
    {
      "cell_type": "code",
      "source": [
        "from sklearn.metrics import classification_report, confusion_matrix\n",
        "import seaborn as sns\n",
        "import matplotlib.pyplot as plt\n",
        "\n",
        "# Assuming 'all_labels' are the true labels and 'all_preds' are the predicted labels from your test set\n",
        "true_labels = all_labels\n",
        "predicted_labels = all_preds\n",
        "\n",
        "# Display classification report\n",
        "print(\"Classification Report:\")\n",
        "print(classification_report(true_labels, predicted_labels))\n",
        "\n",
        "# Display confusion matrix\n",
        "print(\"Confusion Matrix:\")\n",
        "conf_matrix = confusion_matrix(true_labels, predicted_labels)\n",
        "\n",
        "# Plot confusion matrix using seaborn\n",
        "plt.figure(figsize=(8, 6))\n",
        "sns.heatmap(conf_matrix, annot=True, fmt='d', cmap='Blues', cbar=False)\n",
        "plt.title(\"Confusion Matrix\")\n",
        "plt.xlabel(\"Predicted labels\")\n",
        "plt.ylabel(\"True labels\")\n",
        "plt.show()\n"
      ],
      "metadata": {
        "colab": {
          "base_uri": "https://localhost:8080/",
          "height": 755
        },
        "id": "Mz5qWjdZghJD",
        "outputId": "32998884-9f93-49ad-db3d-fbe78694ceb8"
      },
      "execution_count": null,
      "outputs": [
        {
          "output_type": "stream",
          "name": "stdout",
          "text": [
            "Classification Report:\n",
            "              precision    recall  f1-score   support\n",
            "\n",
            "           0       0.66      0.62      0.64       965\n",
            "           1       0.89      0.90      0.89      3206\n",
            "\n",
            "    accuracy                           0.84      4171\n",
            "   macro avg       0.77      0.76      0.77      4171\n",
            "weighted avg       0.83      0.84      0.84      4171\n",
            "\n",
            "Confusion Matrix:\n"
          ]
        },
        {
          "output_type": "display_data",
          "data": {
            "text/plain": [
              "<Figure size 800x600 with 1 Axes>"
            ],
            "image/png": "[encoded data removed]"
          },
          "metadata": {}
        }
      ]
    },
    {
      "cell_type": "code",
      "source": [],
      "metadata": {
        "id": "pfHy9ZFwj0H7"
      },
      "execution_count": null,
      "outputs": []
    }
  ]
}